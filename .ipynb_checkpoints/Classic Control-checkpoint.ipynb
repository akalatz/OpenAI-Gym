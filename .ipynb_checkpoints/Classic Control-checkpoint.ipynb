{
 "cells": [
  {
   "cell_type": "markdown",
   "metadata": {},
   "source": [
    "# Introduction\n",
    "\n",
    "The goal for this notebook is to tackle the Classic Control problems found on OpenAI's Gym. These problems include **Acrobot**, **CartPole**, **MountainCar**, and **Pendulum**. "
   ]
  },
  {
   "cell_type": "markdown",
   "metadata": {},
   "source": [
    "## CartPole-v1\n",
    "\n",
    "The CartPole is a very simple and classic example of a reinforcement learning problem first described by Sutton, Barto, and Anderson [Barto83]. From the OpenAI Gym website, \"A pole is attached by an un-actuated joint to a cart, which moves along a frictionless track. The system is controlled by applying a force of +1 or -1 to the cart. The pendulum starts upright, and the goal is to prevent it from falling over. A reward of +1 is provided for every timestep that the pole remains upright. The episode ends when the pole is more than 15 degrees from vertical, or the cart moves more than 2.4 units from the center.\""
   ]
  },
  {
   "cell_type": "markdown",
   "metadata": {},
   "source": [
    "### Exploring the Problem\n",
    "\n",
    "I want to get a better understanding of the CartPole problem. What are the possible actions, what are the states, etc. I'll start off with some exploration"
   ]
  },
  {
   "cell_type": "code",
   "execution_count": 1,
   "metadata": {},
   "outputs": [
    {
     "name": "stdout",
     "output_type": "stream",
     "text": [
      "\u001b[33mWARN: gym.spaces.Box autodetected dtype as <class 'numpy.float32'>. Please provide explicit dtype.\u001b[0m\n",
      "Action space: Discrete(2)\n",
      "Observation space: Box(4,)\n"
     ]
    }
   ],
   "source": [
    "import gym\n",
    "env = gym.make('CartPole-v1')\n",
    "print(\"Action space:\", env.action_space)\n",
    "print(\"Observation space:\", env.observation_space)"
   ]
  },
  {
   "cell_type": "markdown",
   "metadata": {},
   "source": [
    "Okay so this gives some insight, it looks like there are two possible actions to take, 0 or 1, and the state consists of 4 values, let's look into the bounds of those values to get a feel for our state space."
   ]
  },
  {
   "cell_type": "code",
   "execution_count": 2,
   "metadata": {},
   "outputs": [
    {
     "name": "stdout",
     "output_type": "stream",
     "text": [
      "Observation space upper bound: [4.8000002e+00 3.4028235e+38 4.1887903e-01 3.4028235e+38]\n",
      "Observation space lower bound: [-4.8000002e+00 -3.4028235e+38 -4.1887903e-01 -3.4028235e+38]\n"
     ]
    }
   ],
   "source": [
    "print(\"Observation space upper bound:\", env.observation_space.high)\n",
    "print(\"Observation space lower bound:\", env.observation_space.low)"
   ]
  },
  {
   "cell_type": "markdown",
   "metadata": {},
   "source": [
    "Okay so I immediately see some issues here, two of the observation values can take on a very large range of values 6.8e+38. This can definitely cause some issues when creating our value functions, there are a large number of possible state configurations. For now we are going to ignore it and see if it really does cause issues in practice. We're going to start off with using Sarsa for an on-policy TD approach."
   ]
  },
  {
   "cell_type": "markdown",
   "metadata": {},
   "source": [
    "This method is used for getting a policy back for a given state. This method takes in the current action value function and using the current state, assigns probability of taking each action in the action space for that state. In this case because the policy is epsilon soft, there is a $1 - \\epsilon + \\dfrac{\\epsilon}{|A(s)|}$ of selecting the greedy action, where $1 - \\epsilon$ reresents the probability of selecting the greedy action and $\\dfrac{\\epsilon}{|A(s)|}$ represents the probability of selecting an action completely at random. All actions than the one greedy action will have probability $\\dfrac{\\epsilon}{|A(s)|}$ of being selected. Ties between greedy actions are broken at random."
   ]
  },
  {
   "cell_type": "code",
   "execution_count": 3,
   "metadata": {},
   "outputs": [],
   "source": [
    "def e_soft_policy_from_Q_for_state(Q, state, epsilon):\n",
    "    state_actions = Q[tuple(state)]\n",
    "    \n",
    "    max_action = np.argmax(state_actions)\n",
    "    probabilities = np.zeros(len(state_actions)) # np.zeros_like did not work for some reason\n",
    "    \n",
    "    for i in range(len(state_actions)):\n",
    "        if i == max_action:\n",
    "            probabilities[i] = 1 - epsilon + epsilon / len(state_actions)\n",
    "        else:\n",
    "            probabilities[i] = epsilon / len(state_actions)\n",
    "    return probabilities"
   ]
  },
  {
   "cell_type": "markdown",
   "metadata": {},
   "source": [
    "These methods here are for modularity purposes, for the sarsa algorithm"
   ]
  },
  {
   "cell_type": "code",
   "execution_count": 4,
   "metadata": {},
   "outputs": [],
   "source": [
    "def get_initial_setup(env, Q, epsilon):\n",
    "    state = env.reset()\n",
    "    policy = e_soft_policy_from_Q_for_state(Q, state, epsilon)\n",
    "    action = np.random.choice(Q[tuple(state)], p=policy)\n",
    "    done = False\n",
    "    return state, policy, action, done\n",
    "    \n",
    "def interact_with_env(env, Q, action, policy):\n",
    "    state, reward, done, info = env.step(action)\n",
    "    next_action = np.random.choice(Q[tuple(state)], p=policy)\n",
    "    return state, next_action, reward, done\n"
   ]
  },
  {
   "cell_type": "markdown",
   "metadata": {},
   "source": [
    "This is the code for the sarsa algorithm. I initialize Q for all states with an numpy array, where each action has the value 0. This is done arbitrarily. Then I interact for a given number of episodes, getting the initial state, action, and policy. (The policy is just an e-soft policy with respect to Q) then, as long as we have not reached a terminal state, we will continually interact with the environment and update our current action_value function based on the sarsa update rule."
   ]
  },
  {
   "cell_type": "code",
   "execution_count": 5,
   "metadata": {},
   "outputs": [],
   "source": [
    "from collections import defaultdict\n",
    "import numpy as np\n",
    "\n",
    "def cartpole_sarsa(env, epsilon = 0.1, num_of_iter=10000, discount = 0.9, info_after_iter=5000):\n",
    "    Q = defaultdict(lambda: np.array([0,0])) # These action values are arbitrarily 0 and represent the actions 0 and 1.\n",
    "    \n",
    "    for iter_i in range(1, num_of_iter):\n",
    "        if (iter_i+1) % info_after_iter == 0:\n",
    "            print(\"Finished iteration\", iter_i+1)\n",
    "            \n",
    "        curr_state , policy, curr_action, done = get_initial_setup(env, Q, epsilon)\n",
    "        \n",
    "        while not done:\n",
    "            policy = e_soft_policy_from_Q_for_state(Q, curr_state, epsilon)\n",
    "            next_state, next_action, reward, done = interact_with_env(env, Q, curr_action, policy)\n",
    "            \n",
    "            curr_av = Q[tuple(curr_state)][curr_action]\n",
    "            next_av = Q[tuple(next_state)][next_action]\n",
    "            Q[tuple(curr_state)][curr_action] = (curr_av + (1 / iter_i) * (reward + discount * next_av - curr_av))\n",
    "            \n",
    "            curr_state = next_state\n",
    "            curr_action = next_action\n",
    "    return Q"
   ]
  },
  {
   "cell_type": "markdown",
   "metadata": {},
   "source": [
    "This is just done to test our policy out, it is another method so that we can render it out and see how it performs"
   ]
  },
  {
   "cell_type": "code",
   "execution_count": 6,
   "metadata": {},
   "outputs": [],
   "source": [
    "def test_policy(env, policy, iterations=5):\n",
    "    for _ in range(iterations):\n",
    "        state = env.reset()\n",
    "        done = False\n",
    "        while not done:\n",
    "            #env.render()\n",
    "            state, reward, done, info = env.step(np.random.choice([0, 1], p=policy[tuple(state)]))\n",
    "            state = state\n",
    "                                                 \n",
    "    env.close()"
   ]
  },
  {
   "cell_type": "markdown",
   "metadata": {},
   "source": [
    "This is where we try out our algorithm and train it."
   ]
  },
  {
   "cell_type": "code",
   "execution_count": 7,
   "metadata": {},
   "outputs": [
    {
     "name": "stdout",
     "output_type": "stream",
     "text": [
      "\u001b[33mWARN: gym.spaces.Box autodetected dtype as <class 'numpy.float32'>. Please provide explicit dtype.\u001b[0m\n",
      "Finished iteration 5000\n",
      "Finished iteration 10000\n",
      "Finished iteration 15000\n",
      "Finished iteration 20000\n",
      "Finished iteration 25000\n",
      "Finished iteration 30000\n",
      "Finished iteration 35000\n",
      "Finished iteration 40000\n",
      "Finished iteration 45000\n",
      "Finished iteration 50000\n"
     ]
    }
   ],
   "source": [
    "import gym\n",
    "import numpy as np\n",
    "env = gym.make('CartPole-v1')\n",
    "\n",
    "epsilon = 0.1\n",
    "number_of_iterations = 50000\n",
    "discount = 0.9\n",
    "\n",
    "Q = cartpole_sarsa(env, epsilon, number_of_iterations, discount)"
   ]
  },
  {
   "cell_type": "markdown",
   "metadata": {},
   "source": [
    "Here we are testing it out and watching the performance. We initialize the policy to be random selection for all states, then update it for all the states we have visited already so that it can use that data when it encounters a new state."
   ]
  },
  {
   "cell_type": "code",
   "execution_count": 8,
   "metadata": {},
   "outputs": [],
   "source": [
    "policy = defaultdict(lambda: np.array([0.5, 0.5]))\n",
    "states = []\n",
    "for state, av in Q.items():\n",
    "    states.append(state)\n",
    "    policy[state] = e_soft_policy_from_Q_for_state(Q, state, epsilon)\n",
    "\n",
    "test_policy(env, policy, iterations=10)\n",
    "env.close()"
   ]
  },
  {
   "cell_type": "code",
   "execution_count": 9,
   "metadata": {},
   "outputs": [],
   "source": [
    "min_state_0 = min([s[0] for s in states])\n",
    "max_state_0 = max([s[0] for s in states])\n",
    "\n",
    "min_state_1 = min([s[1] for s in states])\n",
    "max_state_1 = max([s[1] for s in states])\n",
    "\n",
    "min_state_2 = min([s[2] for s in states])\n",
    "max_state_2 = max([s[2] for s in states])\n",
    "\n",
    "min_state_3 = min([s[3] for s in states])\n",
    "max_state_3 = max([s[3] for s in states])\n"
   ]
  },
  {
   "cell_type": "markdown",
   "metadata": {},
   "source": [
    "Okay so after running the test, it did not seem like the algorithm performed very good at all. In fact it seemed to do no better than a total random policy. Let's try and get a better understanding of what is really going on instead of just looking at how it performs visually. Let's see all the values of the probabilities and see if there is any pattern to them."
   ]
  },
  {
   "cell_type": "code",
   "execution_count": 90,
   "metadata": {},
   "outputs": [
    {
     "name": "stdout",
     "output_type": "stream",
     "text": [
      "There are 517708 states we encountered.\n",
      "\n",
      "The average probability of taking action 0 across all states is 0.9498113801602458\n",
      "the average probabilitiy of taking action 1 across all states is 0.050188619839755186\n",
      "\n",
      "The median probability of taking action 0 across all states is 0.9500000000000001\n",
      "the median probabilitiy of taking action 1 across all states is 0.05\n",
      "\n",
      "The lowest probability of taking action 0 across all states is 0.5\n",
      "The lowest probability of taking action 1 across all states is 0.05\n",
      "\n",
      "The highest probability of taking action 0 across all states is 0.9500000000000001\n",
      "The highest probability of taking action 1 across all states is 0.5\n",
      "\n",
      "The number of times action 0 is greater than action 1 is 517491\n",
      "The number of times action 1 is greater than action 0 is 0\n"
     ]
    }
   ],
   "source": [
    "states = []\n",
    "probs = []\n",
    "for state, prob in policy.items():\n",
    "    states += [state]\n",
    "    probs += [prob]\n",
    "    \n",
    "print(\"There are {} states we encountered.\".format(len(states)))\n",
    "print()\n",
    "print(\"The average probability of taking action 0 across all states is\", np.mean([prob[0] for prob in probs]))\n",
    "print(\"the average probabilitiy of taking action 1 across all states is\", np.mean([prob[1] for prob in probs]))\n",
    "print()\n",
    "print(\"The median probability of taking action 0 across all states is\", np.median([prob[0] for prob in probs]))\n",
    "print(\"the median probabilitiy of taking action 1 across all states is\", np.median([prob[1] for prob in probs]))\n",
    "print()\n",
    "print(\"The lowest probability of taking action 0 across all states is\", min([prob[0] for prob in probs]))\n",
    "print(\"The lowest probability of taking action 1 across all states is\", min([prob[1] for prob in probs]))\n",
    "print()\n",
    "print(\"The highest probability of taking action 0 across all states is\", max([prob[0] for prob in probs]))\n",
    "print(\"The highest probability of taking action 1 across all states is\", max([prob[1] for prob in probs]))\n",
    "print()\n",
    "print(\"The number of times action 0 is greater than action 1 is\", len([prob[0] for prob in probs if prob[0] > prob[1]]))\n",
    "print(\"The number of times action 1 is greater than action 0 is\", len([prob[1] for prob in probs if prob[1] > prob[0]]))"
   ]
  },
  {
   "cell_type": "markdown",
   "metadata": {},
   "source": [
    "## What went wrong\n",
    "\n",
    "Essentially all of the greedy actions are action 0. Why is this? Obviously always moving left is not ideal. Well, the issue stems from the fact that I have continuous data. For example, say 0.00101 and 0.0010100001 are unique, even though in this instance they should be considered equivalent compound this with the fact that there are four values that make up a state means we will **very** rarely encounter a state twice. Action 0 is greater because when a action is selected as the argmax between two of the same actions, it just chooses the first occurence of it, in this case action 0. We need to fix our representations of the state by turning out continuous data into discrete ones, by creating bins for each continuous value to fall into to. Then which 4 bins, for the 4 different values, are selected represent the state. This will allow each bin to be visited more often, and fix the oversight"
   ]
  },
  {
   "cell_type": "markdown",
   "metadata": {},
   "source": [
    "## Attempt 2 : Turning the continous data discrete\n",
    "\n",
    "If we look back to our initial investigation into the observation space that represents the state we are in we can see that it consists of 4 values, with a range of [9.6, 6.8<sup>38</sup>, 0.82, 6.8<sup>38</sup>]. 6.8<sup>38</sup> seems incredibly high however. Is that full number space being utilized or can we create bins around a smaller area that is actually being used? Let's look more into the actual values for index 1 and 3.\n"
   ]
  },
  {
   "cell_type": "code",
   "execution_count": 89,
   "metadata": {},
   "outputs": [
    {
     "name": "stdout",
     "output_type": "stream",
     "text": [
      "The average value of index 1 across all states is -0.9181735945719637\n",
      "The average value of index 3 across all states is 1.4123647811686388\n",
      "\n",
      "The median value of index 1 across all states is -0.9435837331792634\n",
      "the median value of index 3 across all states is 1.4257873001762327\n",
      "\n",
      "The lowest value of index 1 across all states is -2.19717547285732\n",
      "The lowest value of index 3 across all states is -2.1086546198649563\n",
      "\n",
      "The highest value of index 1 across all states is 1.3433532994154675\n",
      "The highest value of index 3 across all states is 3.3356676308600393\n",
      "\n",
      "The range of values for index 1 across all states is 3.5405287722727876\n",
      "The range of values for index 3 across all states is 5.444322250724996\n"
     ]
    }
   ],
   "source": [
    "print(\"The average value of index 1 across all states is\", np.mean([state[1] for state in states]))\n",
    "print(\"The average value of index 3 across all states is\", np.mean([state[3] for state in states]))\n",
    "print()\n",
    "print(\"The median value of index 1 across all states is\", np.median([state[1] for state in states]))\n",
    "print(\"the median value of index 3 across all states is\", np.median([state[3] for state in states]))\n",
    "print()\n",
    "min_1 = min([state[1] for state in states])\n",
    "min_3 = min([state[3] for state in states])\n",
    "print(\"The lowest value of index 1 across all states is\", min_1)\n",
    "print(\"The lowest value of index 3 across all states is\", min_3)\n",
    "print()\n",
    "max_1 = max([state[1] for state in states])\n",
    "max_3 = max([state[3] for state in states])\n",
    "print(\"The highest value of index 1 across all states is\", max_1)\n",
    "print(\"The highest value of index 3 across all states is\", max_3)\n",
    "print()\n",
    "print(\"The range of values for index 1 across all states is\", max_1 - min_1)\n",
    "print(\"The range of values for index 3 across all states is\", max_3 - min_3)"
   ]
  },
  {
   "cell_type": "markdown",
   "metadata": {},
   "source": [
    "**Great**, so we can see that we're not utilizing all 6.8<sup>38</sup> values but really only a range of about 5 for each. This makes it **much** more managable and will significantly reduce our state space."
   ]
  },
  {
   "cell_type": "code",
   "execution_count": 76,
   "metadata": {},
   "outputs": [
    {
     "name": "stdout",
     "output_type": "stream",
     "text": [
      "The average value of index 0 across all states is -0.05175445587135781\n",
      "The average value of index 2 across all states is 0.0765279937277988\n",
      "\n",
      "The median value of index 0 across all states is -0.041945627445634556\n",
      "the median value of index 2 across all states is 0.05444667865292563\n",
      "\n",
      "The lowest value of index 0 across all states is -0.27387878785037073\n",
      "The lowest value of index 2 across all states is -0.20417891494860096\n",
      "\n",
      "The highest value of index 0 across all states is 0.16072044424686316\n",
      "The highest value of index 2 across all states is 0.26911107043476545\n",
      "\n",
      "The range of values for index 0 across all states is 0.4345992320972339\n",
      "The range of values for index 2 across all states is 0.4732899853833664\n"
     ]
    }
   ],
   "source": [
    "print(\"The average value of index 0 across all states is\", np.mean([state[0] for state in states]))\n",
    "print(\"The average value of index 2 across all states is\", np.mean([state[2] for state in states]))\n",
    "print()\n",
    "print(\"The median value of index 0 across all states is\", np.median([state[0] for state in states]))\n",
    "print(\"the median value of index 2 across all states is\", np.median([state[2] for state in states]))\n",
    "print()\n",
    "min_0 = min([state[0] for state in states])\n",
    "min_2 = min([state[2] for state in states])\n",
    "print(\"The lowest value of index 0 across all states is\", min_0)\n",
    "print(\"The lowest value of index 2 across all states is\", min_2)\n",
    "print()\n",
    "max_0 = max([state[0] for state in states])\n",
    "max_2 = max([state[2] for state in states])\n",
    "print(\"The highest value of index 0 across all states is\", max_0)\n",
    "print(\"The highest value of index 2 across all states is\", max_2)\n",
    "print()\n",
    "print(\"The range of values for index 0 across all states is\", max_0 - min_0)\n",
    "print(\"The range of values for index 2 across all states is\", max_2 - min_2)"
   ]
  },
  {
   "cell_type": "markdown",
   "metadata": {},
   "source": [
    "The range here is even smaller for these two values, which gives us some freedom in creating the buckets. We can make them sufficiently small to reduce the amount of data lost, but large enough to make the state space navigable. "
   ]
  },
  {
   "cell_type": "code",
   "execution_count": 76,
   "metadata": {},
   "outputs": [],
   "source": [
    "def setup_discrete_state(min_val, max_val, num_of_bins=10):\n",
    "    state = np.ones_like(([[0,0]]*num_of_bins), dtype=np.float32)\n",
    "    update_amount = (max_val - min_val) / num_of_bins\n",
    "    \n",
    "    for i in range(num_of_bins):\n",
    "        if i == 0:\n",
    "            state[i][0] = np.finfo(dtype=np.float32).min\n",
    "            state[i][1] = min_val + update_amount\n",
    "        elif i == (num_of_bins-1):\n",
    "            state[i][0] = state[i-1][1]\n",
    "            state[i][1] = np.finfo(dtype=np.float32).max\n",
    "        else:\n",
    "            state[i][0] = state[i-1][1]\n",
    "            state[i][1] = state[i-1][1] + update_amount\n",
    "            \n",
    "    return state\n",
    "\n",
    "def get_discrete_state(discrete_state_ref, cont_state):\n",
    "    discrete_state = []\n",
    "    for i in range(len(cont_state)):\n",
    "        for j in range(len(discrete_state_ref[i])):\n",
    "            if cont_state[i] >= discrete_state_ref[i][j][0] and cont_state[i] < discrete_state_ref[i][j][1]:\n",
    "                discrete_state.append(j)\n",
    "    return discrete_state"
   ]
  },
  {
   "cell_type": "code",
   "execution_count": 91,
   "metadata": {},
   "outputs": [],
   "source": [
    "def e_soft_policy_from_Q_for_state(Q, state, epsilon):\n",
    "    state_actions = Q[tuple(state)]\n",
    "    \n",
    "    max_action = np.argmax(state_actions)\n",
    "    probabilities = np.zeros(len(state_actions)) # np.zeros_like did not work for some reason\n",
    "    \n",
    "    for i in range(len(state_actions)):\n",
    "        if i == max_action:\n",
    "            probabilities[i] = 1 - epsilon + epsilon / len(state_actions)\n",
    "        else:\n",
    "            probabilities[i] = epsilon / len(state_actions)\n",
    "    return probabilities"
   ]
  },
  {
   "cell_type": "code",
   "execution_count": 136,
   "metadata": {},
   "outputs": [],
   "source": [
    "def get_initial_setup(env, Q, epsilon, discrete_state_ref):\n",
    "    state = env.reset()\n",
    "    state = get_discrete_state(discrete_state_ref, state)\n",
    "    policy = e_soft_policy_from_Q_for_state(Q, state, epsilon)\n",
    "    action = np.random.choice([0,1], p=policy)\n",
    "    done = False\n",
    "    return state, policy, action, done\n",
    "    \n",
    "def interact_with_env(env, Q, action, policy, discrete_state_ref):\n",
    "    state, reward, done, info = env.step(action)\n",
    "    state = get_discrete_state(discrete_state_ref, state)\n",
    "    next_action = np.random.choice([0,1], p=policy)\n",
    "    return state, next_action, reward, done\n"
   ]
  },
  {
   "cell_type": "code",
   "execution_count": 251,
   "metadata": {},
   "outputs": [],
   "source": [
    "from collections import defaultdict\n",
    "import numpy as np\n",
    "\n",
    "def cartpole_sarsa(env, discrete_state_ref, epsilon = 0.1, num_of_iter=10000, discount = 0.9, info_after_iter=10000):\n",
    "    Q = defaultdict(lambda: np.array([0,0], dtype=np.float32)) # These action values are arbitrarily 0 and represent the actions 0 and 1.\n",
    "    \n",
    "    for iter_i in range(1, num_of_iter):\n",
    "        if (iter_i+1) % info_after_iter == 0:\n",
    "            print(\"Finished iteration\", iter_i+1)\n",
    "            \n",
    "        curr_state , policy, curr_action, done = get_initial_setup(env, Q, epsilon, discrete_state_ref)\n",
    "        \n",
    "        while not done:\n",
    "            policy = e_soft_policy_from_Q_for_state(Q, curr_state, epsilon)\n",
    "            next_state, next_action, reward, done = interact_with_env(env, Q, curr_action, policy, discrete_state_ref)\n",
    "            \n",
    "            curr_av = Q[tuple(curr_state)][curr_action]\n",
    "            next_av = Q[tuple(next_state)][next_action]\n",
    "            #print(\"curr_av\",curr_av)\n",
    "            #print(\"next_av\",next_av)\n",
    "            #print(\"curr_action\",curr_action)\n",
    "            #print(\"curr_state\", curr_state)\n",
    "            #print(\"next_state\",next_state)\n",
    "            #print(\"next_action\",next_action)\n",
    "            #print(\"Before Q[tuple(curr_action)][curr_action]\", Q[tuple(curr_state)][curr_action])\n",
    "            #print(\"reward\", reward)\n",
    "            #print(\"1/iter_i\", 1/iter_i)\n",
    "            #print(\"reward * 1/iter_i\", reward*(1/iter_i))\n",
    "            #print(\"Update\", (1 / iter_i) * (reward + discount * next_av - curr_av))\n",
    "            Q[tuple(curr_state)][curr_action] = (curr_av + (0.99) * (reward + discount * next_av - curr_av))\n",
    "            #print(\"After Q[tuple(curr_action)][curr_action]\", Q[tuple(curr_state)][curr_action])\n",
    "\n",
    "            \n",
    "            curr_state = next_state\n",
    "            curr_action = next_action\n",
    "    return Q"
   ]
  },
  {
   "cell_type": "code",
   "execution_count": 273,
   "metadata": {},
   "outputs": [],
   "source": [
    "def test_policy(env, policy, discrete_state_ref, iterations=5):\n",
    "    returns = []\n",
    "    for _ in range(iterations):\n",
    "        G = 0\n",
    "        curr_state = env.reset()\n",
    "        curr_state = get_discrete_state(discrete_state_ref, curr_state)\n",
    "        done = False\n",
    "        while not done:\n",
    "            #env.render()\n",
    "            next_state, reward, done, info = env.step(np.random.choice([0, 1], p=policy[tuple(curr_state)]))\n",
    "            next_state = get_discrete_state(discrete_state_ref, next_state)\n",
    "            G += reward\n",
    "            curr_state = next_state\n",
    "        returns.append(G)\n",
    "        \n",
    "    env.close()\n",
    "    return returns"
   ]
  },
  {
   "cell_type": "code",
   "execution_count": 277,
   "metadata": {},
   "outputs": [],
   "source": [
    "state_0 = setup_discrete_state(min_state_0*0.9, max_state_0*0.9, 12)\n",
    "state_1 = setup_discrete_state(min_state_1*0.8, max_state_1*1.05, 12)\n",
    "state_2 = setup_discrete_state(min_state_2*0.9, max_state_2*0.9, 12)\n",
    "state_3 = setup_discrete_state(min_state_3*1.05, max_state_3*0.8, 12)"
   ]
  },
  {
   "cell_type": "code",
   "execution_count": 278,
   "metadata": {},
   "outputs": [
    {
     "name": "stdout",
     "output_type": "stream",
     "text": [
      "\u001b[33mWARN: gym.spaces.Box autodetected dtype as <class 'numpy.float32'>. Please provide explicit dtype.\u001b[0m\n",
      "Finished iteration 10000\n",
      "Finished iteration 20000\n",
      "Finished iteration 30000\n",
      "Finished iteration 40000\n",
      "Finished iteration 50000\n",
      "Finished iteration 60000\n",
      "Finished iteration 70000\n",
      "Finished iteration 80000\n",
      "Finished iteration 90000\n",
      "Finished iteration 100000\n"
     ]
    }
   ],
   "source": [
    "import gym\n",
    "import numpy as np\n",
    "env = gym.make('CartPole-v1')\n",
    "\n",
    "epsilon = 0.1\n",
    "number_of_iterations = 1000000\n",
    "discount = 0.9\n",
    "discrete_state_ref = [state_0, state_1, state_2, state_3]\n",
    "\n",
    "\n",
    "\n",
    "Q = cartpole_sarsa(env, discrete_state_ref, epsilon, number_of_iterations, discount)\n"
   ]
  },
  {
   "cell_type": "code",
   "execution_count": 279,
   "metadata": {},
   "outputs": [],
   "source": [
    "policy = defaultdict(lambda: np.array([0.5, 0.5]))\n",
    "state_0 = []\n",
    "state_1 = []\n",
    "state_2 = []\n",
    "state_3 = []\n",
    "for state, av in Q.items():\n",
    "    state_0.append(state[0])\n",
    "    state_1.append(state[1])\n",
    "    state_2.append(state[2])\n",
    "    state_3.append(state[3])\n",
    "    policy[state] = e_soft_policy_from_Q_for_state(Q, state, epsilon)"
   ]
  },
  {
   "cell_type": "code",
   "execution_count": 280,
   "metadata": {},
   "outputs": [
    {
     "name": "stdout",
     "output_type": "stream",
     "text": [
      "6.0\n",
      "7.0\n",
      "6.0\n",
      "4.0\n"
     ]
    }
   ],
   "source": [
    "print(np.median(state_0))\n",
    "print(np.median(state_1))\n",
    "print(np.median(state_2))\n",
    "print(np.median(state_3))"
   ]
  },
  {
   "cell_type": "code",
   "execution_count": 284,
   "metadata": {},
   "outputs": [
    {
     "name": "stdout",
     "output_type": "stream",
     "text": [
      "18.0\n"
     ]
    }
   ],
   "source": [
    "returns = test_policy(env, policy, discrete_state_ref, iterations=500)\n",
    "print(np.median(returns))"
   ]
  },
  {
   "cell_type": "code",
   "execution_count": 282,
   "metadata": {},
   "outputs": [
    {
     "name": "stdout",
     "output_type": "stream",
     "text": [
      "There are 3803 states we encountered.\n",
      "\n",
      "The average probability of taking action 0 across all states is 0.4923087036550092\n",
      "the average probabilitiy of taking action 1 across all states is 0.5076912963449908\n",
      "\n",
      "The median probability of taking action 0 across all states is 0.05\n",
      "the median probabilitiy of taking action 1 across all states is 0.9500000000000001\n",
      "\n",
      "The lowest probability of taking action 0 across all states is 0.05\n",
      "The lowest probability of taking action 1 across all states is 0.05\n",
      "\n",
      "The highest probability of taking action 0 across all states is 0.9500000000000001\n",
      "The highest probability of taking action 1 across all states is 0.9500000000000001\n",
      "\n",
      "The number of times action 0 is greater than action 1 is 1869\n",
      "The number of times action 1 is greater than action 0 is 1934\n"
     ]
    }
   ],
   "source": [
    "states = []\n",
    "probs = []\n",
    "for state, prob in policy.items():\n",
    "    states += [state]\n",
    "    probs += [prob]\n",
    "    \n",
    "print(\"There are {} states we encountered.\".format(len(states)))\n",
    "print()\n",
    "print(\"The average probability of taking action 0 across all states is\", np.mean([prob[0] for prob in probs]))\n",
    "print(\"the average probabilitiy of taking action 1 across all states is\", np.mean([prob[1] for prob in probs]))\n",
    "print()\n",
    "print(\"The median probability of taking action 0 across all states is\", np.median([prob[0] for prob in probs]))\n",
    "print(\"the median probabilitiy of taking action 1 across all states is\", np.median([prob[1] for prob in probs]))\n",
    "print()\n",
    "print(\"The lowest probability of taking action 0 across all states is\", min([prob[0] for prob in probs]))\n",
    "print(\"The lowest probability of taking action 1 across all states is\", min([prob[1] for prob in probs]))\n",
    "print()\n",
    "print(\"The highest probability of taking action 0 across all states is\", max([prob[0] for prob in probs]))\n",
    "print(\"The highest probability of taking action 1 across all states is\", max([prob[1] for prob in probs]))\n",
    "print()\n",
    "print(\"The number of times action 0 is greater than action 1 is\", len([prob[0] for prob in probs if prob[0] > prob[1]]))\n",
    "print(\"The number of times action 1 is greater than action 0 is\", len([prob[1] for prob in probs if prob[1] > prob[0]]))"
   ]
  },
  {
   "cell_type": "code",
   "execution_count": 235,
   "metadata": {},
   "outputs": [
    {
     "name": "stdout",
     "output_type": "stream",
     "text": [
      "The average value of index 1 across all states is 0.9182542190618094\n",
      "The average value of index 3 across all states is 0.540499598406696\n",
      "\n",
      "The median value of index 1 across all states is 0.15806161242299197\n",
      "the median value of index 3 across all states is 0.0884004358935448\n",
      "\n",
      "The lowest value of index 1 across all states is -2.6464289588015557\n",
      "The lowest value of index 3 across all states is -2.8474251579738086\n",
      "\n",
      "The highest value of index 1 across all states is 9\n",
      "The highest value of index 3 across all states is 9\n",
      "\n",
      "The range of values for index 1 across all states is 11.646428958801556\n",
      "The range of values for index 3 across all states is 11.84742515797381\n"
     ]
    }
   ],
   "source": [
    "print(\"The average value of index 1 across all states is\", np.mean([state[1] for state in states]))\n",
    "print(\"The average value of index 3 across all states is\", np.mean([state[3] for state in states]))\n",
    "print()\n",
    "print(\"The median value of index 1 across all states is\", np.median([state[1] for state in states]))\n",
    "print(\"the median value of index 3 across all states is\", np.median([state[3] for state in states]))\n",
    "print()\n",
    "min_1 = min([state[1] for state in states])\n",
    "min_3 = min([state[3] for state in states])\n",
    "print(\"The lowest value of index 1 across all states is\", min_1)\n",
    "print(\"The lowest value of index 3 across all states is\", min_3)\n",
    "print()\n",
    "max_1 = max([state[1] for state in states])\n",
    "max_3 = max([state[3] for state in states])\n",
    "print(\"The highest value of index 1 across all states is\", max_1)\n",
    "print(\"The highest value of index 3 across all states is\", max_3)\n",
    "print()\n",
    "print(\"The range of values for index 1 across all states is\", max_1 - min_1)\n",
    "print(\"The range of values for index 3 across all states is\", max_3 - min_3)"
   ]
  },
  {
   "cell_type": "code",
   "execution_count": 61,
   "metadata": {},
   "outputs": [
    {
     "name": "stdout",
     "output_type": "stream",
     "text": [
      "The average value of index 0 across all states is -0.049706723423560376\n",
      "The average value of index 2 across all states is 0.0775529542776735\n",
      "\n",
      "The median value of index 0 across all states is -0.04194442491963518\n",
      "the median value of index 2 across all states is 0.05426892934272083\n",
      "\n",
      "The lowest value of index 0 across all states is -0.2713386908433761\n",
      "The lowest value of index 2 across all states is -0.05078837215555543\n",
      "\n",
      "The highest value of index 0 across all states is 4.0\n",
      "The highest value of index 2 across all states is 4.0\n",
      "\n",
      "The range of values for index 0 across all states is 4.271338690843376\n",
      "The range of values for index 2 across all states is 4.050788372155555\n"
     ]
    }
   ],
   "source": [
    "print(\"The average value of index 0 across all states is\", np.mean([state[0] for state in states]))\n",
    "print(\"The average value of index 2 across all states is\", np.mean([state[2] for state in states]))\n",
    "print()\n",
    "print(\"The median value of index 0 across all states is\", np.median([state[0] for state in states]))\n",
    "print(\"the median value of index 2 across all states is\", np.median([state[2] for state in states]))\n",
    "print()\n",
    "min_0 = min([state[0] for state in states])\n",
    "min_2 = min([state[2] for state in states])\n",
    "print(\"The lowest value of index 0 across all states is\", min_0)\n",
    "print(\"The lowest value of index 2 across all states is\", min_2)\n",
    "print()\n",
    "max_0 = max([state[0] for state in states])\n",
    "max_2 = max([state[2] for state in states])\n",
    "print(\"The highest value of index 0 across all states is\", max_0)\n",
    "print(\"The highest value of index 2 across all states is\", max_2)\n",
    "print()\n",
    "print(\"The range of values for index 0 across all states is\", max_0 - min_0)\n",
    "print(\"The range of values for index 2 across all states is\", max_2 - min_2)"
   ]
  },
  {
   "cell_type": "code",
   "execution_count": null,
   "metadata": {},
   "outputs": [],
   "source": []
  }
 ],
 "metadata": {
  "kernelspec": {
   "display_name": "OpenAI Gym",
   "language": "python",
   "name": "gym"
  },
  "language_info": {
   "codemirror_mode": {
    "name": "ipython",
    "version": 3
   },
   "file_extension": ".py",
   "mimetype": "text/x-python",
   "name": "python",
   "nbconvert_exporter": "python",
   "pygments_lexer": "ipython3",
   "version": "3.6.5"
  }
 },
 "nbformat": 4,
 "nbformat_minor": 2
}
